{
 "cells": [
  {
   "cell_type": "markdown",
   "id": "8b50a96b-8826-42ab-abf8-50a7638c6080",
   "metadata": {},
   "source": [
    "## 2. Binary arithmetic operations in Python"
   ]
  },
  {
   "cell_type": "code",
   "execution_count": 23,
   "id": "ebcd8db1-b644-426f-8c5c-456c8fe746a1",
   "metadata": {},
   "outputs": [
    {
     "data": {
      "text/plain": [
       "19"
      ]
     },
     "execution_count": 23,
     "metadata": {},
     "output_type": "execute_result"
    }
   ],
   "source": [
    "12+7"
   ]
  },
  {
   "cell_type": "code",
   "execution_count": 24,
   "id": "8ea565ba-2b1b-40f6-865f-fd9827181d07",
   "metadata": {},
   "outputs": [
    {
     "data": {
      "text/plain": [
       "5"
      ]
     },
     "execution_count": 24,
     "metadata": {},
     "output_type": "execute_result"
    }
   ],
   "source": [
    "12-7"
   ]
  },
  {
   "cell_type": "code",
   "execution_count": 25,
   "id": "0183a709-def0-4de5-a904-751d84832c6b",
   "metadata": {},
   "outputs": [
    {
     "data": {
      "text/plain": [
       "84"
      ]
     },
     "execution_count": 25,
     "metadata": {},
     "output_type": "execute_result"
    }
   ],
   "source": [
    "12*7"
   ]
  },
  {
   "cell_type": "code",
   "execution_count": 26,
   "id": "d150d8b3-4955-44a3-a0d4-5632453de0f1",
   "metadata": {},
   "outputs": [
    {
     "data": {
      "text/plain": [
       "1.7142857142857142"
      ]
     },
     "execution_count": 26,
     "metadata": {},
     "output_type": "execute_result"
    }
   ],
   "source": [
    "12/7"
   ]
  },
  {
   "cell_type": "code",
   "execution_count": 27,
   "id": "c1095022-0a69-4ec7-86bb-e599f613c7b4",
   "metadata": {},
   "outputs": [
    {
     "data": {
      "text/plain": [
       "1"
      ]
     },
     "execution_count": 27,
     "metadata": {},
     "output_type": "execute_result"
    }
   ],
   "source": [
    "12//7"
   ]
  },
  {
   "cell_type": "code",
   "execution_count": 28,
   "id": "6f3dedfa-1133-4018-ae35-f68797cc4261",
   "metadata": {},
   "outputs": [
    {
     "data": {
      "text/plain": [
       "5"
      ]
     },
     "execution_count": 28,
     "metadata": {},
     "output_type": "execute_result"
    }
   ],
   "source": [
    "12%7"
   ]
  },
  {
   "cell_type": "code",
   "execution_count": 29,
   "id": "694f5437-0650-4cdd-9ed2-b93a3c3a31e6",
   "metadata": {},
   "outputs": [
    {
     "data": {
      "text/plain": [
       "35831808"
      ]
     },
     "execution_count": 29,
     "metadata": {},
     "output_type": "execute_result"
    }
   ],
   "source": [
    "12**7"
   ]
  },
  {
   "cell_type": "markdown",
   "id": "39782acf-ea42-4281-9f7a-a8f1416012d6",
   "metadata": {},
   "source": [
    "## 3. Python Modules\n",
    "\n",
    "3 main ones: NumPy, SciPy, MatPlotLib"
   ]
  },
  {
   "cell_type": "markdown",
   "id": "418f5bd5-bb6f-460d-ad57-250b9518bb44",
   "metadata": {},
   "source": [
    "## 4. Python functions: a first look\n",
    "\n",
    "all of the code below is examples of NumPy functions"
   ]
  },
  {
   "cell_type": "code",
   "execution_count": 35,
   "id": "aeb62e48-7779-43f2-846b-3ab956f62920",
   "metadata": {},
   "outputs": [
    {
     "data": {
      "text/plain": [
       "0.8414709848078965"
      ]
     },
     "execution_count": 35,
     "metadata": {},
     "output_type": "execute_result"
    }
   ],
   "source": [
    "import numpy as np #shortening numpy, making it easier to write\n",
    "np.sin(1) #can evaluate sin, tan, cos, arcsin/tan/cos"
   ]
  },
  {
   "cell_type": "code",
   "execution_count": 38,
   "id": "8d16648f-883c-4e98-80c8-7d0131aa8507",
   "metadata": {},
   "outputs": [
    {
     "data": {
      "text/plain": [
       "2.0"
      ]
     },
     "execution_count": 38,
     "metadata": {},
     "output_type": "execute_result"
    }
   ],
   "source": [
    "np.log10(100) #can evaluate log(x) or natural log, or logb(x) with b of any base"
   ]
  },
  {
   "cell_type": "code",
   "execution_count": 39,
   "id": "159ad2bc-2bb4-4bef-9517-963e084c4155",
   "metadata": {},
   "outputs": [
    {
     "data": {
      "text/plain": [
       "3.141592653589793"
      ]
     },
     "execution_count": 39,
     "metadata": {},
     "output_type": "execute_result"
    }
   ],
   "source": [
    "np.radians(180) # degrees(x) converts x radians to degrees, radians(x) converts degrees to radians"
   ]
  },
  {
   "cell_type": "code",
   "execution_count": 40,
   "id": "3114739f-5b5a-40ca-9eaa-daedb68d0ea8",
   "metadata": {},
   "outputs": [
    {
     "data": {
      "text/plain": [
       "12.0"
      ]
     },
     "execution_count": 40,
     "metadata": {},
     "output_type": "execute_result"
    }
   ],
   "source": [
    "np.sqrt(144)"
   ]
  },
  {
   "cell_type": "code",
   "execution_count": 43,
   "id": "34eff2b8-491d-4c9f-8a0e-497ba7ca036a",
   "metadata": {},
   "outputs": [
    {
     "data": {
      "text/plain": [
       "2.718281828459045"
      ]
     },
     "execution_count": 43,
     "metadata": {},
     "output_type": "execute_result"
    }
   ],
   "source": [
    "np.exp(1) #takes e to the xth power"
   ]
  },
  {
   "cell_type": "code",
   "execution_count": 45,
   "id": "66f9365b-77c2-4a5d-bc06-248edc476715",
   "metadata": {},
   "outputs": [
    {
     "data": {
      "text/plain": [
       "3.0"
      ]
     },
     "execution_count": 45,
     "metadata": {},
     "output_type": "execute_result"
    }
   ],
   "source": [
    "np.fabs(-3) #absolute value"
   ]
  },
  {
   "cell_type": "code",
   "execution_count": 48,
   "id": "64f05397-1f35-450a-8498-cdc44a44387b",
   "metadata": {},
   "outputs": [
    {
     "name": "stdout",
     "output_type": "stream",
     "text": [
      "12.0 12.0 13.0\n"
     ]
    }
   ],
   "source": [
    "a = np.round(12.45587) # rounds a floating point (decimal value numbers) to the nearest integer\n",
    "b = np.floor(12.45555) # \"floors\" the number (round down to nearest integer)\n",
    "c = np.ceil(12.4555) # \"ceilings\" the number (rounds up to nearest integer)\n",
    "print(a, b, c)"
   ]
  },
  {
   "cell_type": "code",
   "execution_count": 52,
   "id": "91fa19a2-4b9c-43b9-8613-602fd8b37827",
   "metadata": {},
   "outputs": [
    {
     "data": {
      "text/plain": [
       "-1"
      ]
     },
     "execution_count": 52,
     "metadata": {},
     "output_type": "execute_result"
    }
   ],
   "source": [
    "np.sign(-23) # output is -1 if x<0, 1 if x>0, and 0 if x=0"
   ]
  },
  {
   "cell_type": "markdown",
   "id": "33498973-f1af-4970-901a-4b98c318d9ca",
   "metadata": {},
   "source": [
    "## 5. Variables\n",
    "\n",
    "a variable is a name that is used to store data. for example:"
   ]
  },
  {
   "cell_type": "code",
   "execution_count": 53,
   "id": "daddca46-4f35-4c48-a0ec-ab93547ebaf0",
   "metadata": {},
   "outputs": [],
   "source": [
    "a=23"
   ]
  },
  {
   "cell_type": "code",
   "execution_count": 54,
   "id": "f73c3391-d3fc-4bf2-a0de-06e14ee6d2ac",
   "metadata": {},
   "outputs": [
    {
     "data": {
      "text/plain": [
       "23"
      ]
     },
     "execution_count": 54,
     "metadata": {},
     "output_type": "execute_result"
    }
   ],
   "source": [
    "a"
   ]
  },
  {
   "cell_type": "code",
   "execution_count": 56,
   "id": "71df8544-5a44-4daa-8467-adf42e633694",
   "metadata": {},
   "outputs": [],
   "source": [
    "p,q = 13, np.sqrt(34)"
   ]
  },
  {
   "cell_type": "code",
   "execution_count": 59,
   "id": "fa6e951f-12a8-4011-b93e-69fe03f521da",
   "metadata": {},
   "outputs": [
    {
     "data": {
      "text/plain": [
       "5.830951894845301"
      ]
     },
     "execution_count": 59,
     "metadata": {},
     "output_type": "execute_result"
    }
   ],
   "source": [
    "# the name of a variable is associated with a memory location in your computer\n",
    "#the assignment variable (=) tells the computer to put a particular piece of data in that memory location\n",
    "#note that Python stores the numerical value, not the expression used to generate it:\n",
    "q"
   ]
  },
  {
   "cell_type": "markdown",
   "id": "ad912826-42b1-4cdc-a1dc-d1a3fc82e972",
   "metadata": {},
   "source": [
    "what if: b=a"
   ]
  },
  {
   "cell_type": "markdown",
   "id": "40a57395-1715-46f5-a730-5eb544dbe198",
   "metadata": {},
   "source": [
    "In this case Python associates a new memory location with the name b, distinct from the one\n",
    "associated with a, and sets the value stored at that memory location to 23, the value of a. The\n",
    "following sequence of statements demonstrate that fact."
   ]
  },
  {
   "cell_type": "code",
   "execution_count": 20,
   "id": "c7a0cfef-e77e-4324-88e9-fc92aaaf66a2",
   "metadata": {},
   "outputs": [
    {
     "data": {
      "text/plain": [
       "23"
      ]
     },
     "execution_count": 20,
     "metadata": {},
     "output_type": "execute_result"
    }
   ],
   "source": [
    "a=23\n",
    "b=a\n",
    "b"
   ]
  },
  {
   "cell_type": "code",
   "execution_count": 21,
   "id": "a1e8c64b-51ad-4b64-bf15-e304f03d6f2e",
   "metadata": {},
   "outputs": [
    {
     "data": {
      "text/plain": [
       "23"
      ]
     },
     "execution_count": 21,
     "metadata": {},
     "output_type": "execute_result"
    }
   ],
   "source": [
    "a=4\n",
    "b # remains equal to the original a, since the value stored in the memory location was 23, not the variable a"
   ]
  },
  {
   "cell_type": "code",
   "execution_count": 7,
   "id": "0f455550-2859-459e-975d-e2ebf6d557c0",
   "metadata": {},
   "outputs": [
    {
     "ename": "SyntaxError",
     "evalue": "cannot assign to literal here. Maybe you meant '==' instead of '='? (3522132210.py, line 1)",
     "output_type": "error",
     "traceback": [
      "\u001b[0;36m  Cell \u001b[0;32mIn[7], line 1\u001b[0;36m\u001b[0m\n\u001b[0;31m    5=a # assignment variable only works from right to left\u001b[0m\n\u001b[0m    ^\u001b[0m\n\u001b[0;31mSyntaxError\u001b[0m\u001b[0;31m:\u001b[0m cannot assign to literal here. Maybe you meant '==' instead of '='?\n"
     ]
    }
   ],
   "source": [
    "5=a # assignment variable only works from right to left "
   ]
  },
  {
   "cell_type": "code",
   "execution_count": 22,
   "id": "0476fcf8-7948-44c3-ac77-6dae82c57ddd",
   "metadata": {},
   "outputs": [
    {
     "data": {
      "text/plain": [
       "24"
      ]
     },
     "execution_count": 22,
     "metadata": {},
     "output_type": "execute_result"
    }
   ],
   "source": [
    "b=b+1\n",
    "# makes no sense in algebra, BUT  \n",
    "# in python it means “add 1 to the current value of b and assign the result to b\n",
    "b"
   ]
  },
  {
   "cell_type": "code",
   "execution_count": 80,
   "id": "83cd1f60-cad4-450d-aa10-b08d0943fef7",
   "metadata": {},
   "outputs": [
    {
     "data": {
      "text/plain": [
       "12"
      ]
     },
     "execution_count": 80,
     "metadata": {},
     "output_type": "execute_result"
    }
   ],
   "source": [
    "#above is common, special operations used\" +=, -=, *=, /=\n",
    "\n",
    "b+=4\n",
    "b"
   ]
  },
  {
   "cell_type": "markdown",
   "id": "e4313995-44fd-4a62-89ff-41e4bc20a988",
   "metadata": {},
   "source": [
    "Reserved Python words (can't use as variable names): and, del, from, not, while, as, elif, global, or, with, assert, else, if, pass, yield,\n",
    "break, except, import, print, class, exec, in, raise, continue, finally, is, return, def, for, lambda, try, (functions names defined in libraries being used)"
   ]
  },
  {
   "cell_type": "markdown",
   "id": "b3364065-ee79-4aba-8a9b-c5c7909a8677",
   "metadata": {},
   "source": [
    "## 6. Script files and programs"
   ]
  },
  {
   "cell_type": "code",
   "execution_count": 24,
   "id": "cd2d70f8-3203-4468-bd94-4a36c4a7c32d",
   "metadata": {},
   "outputs": [
    {
     "name": "stdout",
     "output_type": "stream",
     "text": [
      "54.666666666666664\n"
     ]
    }
   ],
   "source": [
    "# Calculates time, gallons of gas used, and cost of gasoline for\n",
    "# a trip\n",
    "distance = 400. # miles\n",
    "mpg = 30. # car mileage\n",
    "speed = 60. # average speed\n",
    "costPerGallon = 4.10 # price of gas\n",
    "time = distance/speed\n",
    "gallons = distance/mpg\n",
    "cost = gallons*costPerGallon\n",
    "print(cost)"
   ]
  },
  {
   "cell_type": "code",
   "execution_count": 27,
   "id": "cffed15b-494a-4ffe-8d12-c34f8b059c09",
   "metadata": {},
   "outputs": [
    {
     "name": "stdout",
     "output_type": "stream",
     "text": [
      "10.0\n"
     ]
    }
   ],
   "source": [
    "# Calculates the distance between two 2d Cartesian coordinates\n",
    "import numpy as np\n",
    "x1, y1 = 3, 4\n",
    "x2, y2 = 9, 12\n",
    "dr = np.sqrt( (x2-x1)**2 + (y2-y1)**2)\n",
    "print(dr)"
   ]
  },
  {
   "cell_type": "markdown",
   "id": "47e96e2e-b2d1-4ae7-bb89-da3eef1bc24a",
   "metadata": {},
   "source": [
    "## 7. Strings, lists, arrays, dictionaries"
   ]
  },
  {
   "cell_type": "markdown",
   "id": "286660de-f234-40ac-86a2-0107f950a703",
   "metadata": {},
   "source": [
    "strings: lists of characters, can be assigned using variable names, can be concatenated using \"+\""
   ]
  },
  {
   "cell_type": "code",
   "execution_count": 28,
   "id": "362ea2dc-7ec9-4df7-94f4-b1b03a486651",
   "metadata": {},
   "outputs": [
    {
     "data": {
      "text/plain": [
       "\"my dog's name is bingo\""
      ]
     },
     "execution_count": 28,
     "metadata": {},
     "output_type": "execute_result"
    }
   ],
   "source": [
    "a=\"my\"\n",
    "b=\"dog's\"\n",
    "c=\"name\"\n",
    "d=\"is\"\n",
    "e=\"bingo\"\n",
    "f=a+' '+b+' '+c+' '+d+' '+e\n",
    "f"
   ]
  },
  {
   "cell_type": "code",
   "execution_count": 29,
   "id": "340c7cb2-862f-4f1f-9e6a-a0b7a72913b2",
   "metadata": {},
   "outputs": [
    {
     "ename": "TypeError",
     "evalue": "can only concatenate str (not \"int\") to str",
     "output_type": "error",
     "traceback": [
      "\u001b[0;31m---------------------------------------------------------------------------\u001b[0m",
      "\u001b[0;31mTypeError\u001b[0m                                 Traceback (most recent call last)",
      "Cell \u001b[0;32mIn[29], line 6\u001b[0m\n\u001b[1;32m      2\u001b[0m r\u001b[38;5;241m=\u001b[39m\u001b[38;5;241m927\u001b[39m\n\u001b[1;32m      3\u001b[0m \u001b[38;5;66;03m#q is a string\u001b[39;00m\n\u001b[1;32m      4\u001b[0m \u001b[38;5;66;03m#r is an integer\u001b[39;00m\n\u001b[1;32m      5\u001b[0m \u001b[38;5;66;03m#they cannot be added\u001b[39;00m\n\u001b[0;32m----> 6\u001b[0m \u001b[43mq\u001b[49m\u001b[38;5;241;43m+\u001b[39;49m\u001b[43mr\u001b[49m\n",
      "\u001b[0;31mTypeError\u001b[0m: can only concatenate str (not \"int\") to str"
     ]
    }
   ],
   "source": [
    "q=\"927\"\n",
    "r=927\n",
    "#q is a string\n",
    "#r is an integer\n",
    "#they cannot be added nor concatenated\n",
    "q+r"
   ]
  },
  {
   "cell_type": "markdown",
   "id": "8ad9c1d1-a654-40a1-aca6-d235084f7536",
   "metadata": {},
   "source": [
    "### lists: defined by a pair of square brackets on either end with individual elements separated by commas, both contain lists of one or more elements"
   ]
  },
  {
   "cell_type": "code",
   "execution_count": 46,
   "id": "94a5a079-e00a-45e4-a12e-529142639ad3",
   "metadata": {},
   "outputs": [
    {
     "data": {
      "text/plain": [
       "5.0"
      ]
     },
     "execution_count": 46,
     "metadata": {},
     "output_type": "execute_result"
    }
   ],
   "source": [
    "a = [0, 1, 1, 2, 3, 5, 8, 13]\n",
    "b = [5., \"girl\", 2+0j, \"horse\", 21]\n",
    "b[0] #We can access individual elements of a list using the variable name for the list with square brackets. note that lists are zero-indexed"
   ]
  },
  {
   "cell_type": "code",
   "execution_count": 41,
   "id": "69dc18ee-5ec2-467a-a07e-1b95947c9d19",
   "metadata": {},
   "outputs": [],
   "source": [
    "#elements of lists can be changed"
   ]
  },
  {
   "cell_type": "code",
   "execution_count": 47,
   "id": "8bef4f26-dd97-4a5c-9c5c-128da5c0fb35",
   "metadata": {},
   "outputs": [
    {
     "data": {
      "text/plain": [
       "[7.0, 'girls & boys', (2+0j), 3.14159265, 21]"
      ]
     },
     "execution_count": 47,
     "metadata": {},
     "output_type": "execute_result"
    }
   ],
   "source": [
    "b[0]=b[0]+2\n",
    "b[3]=3.14159265\n",
    "b[1]=b[1]+\"s & boys\"\n",
    "b"
   ]
  },
  {
   "cell_type": "markdown",
   "id": "8d1f693b-04ee-4ba9-9988-72dc1ae6c96a",
   "metadata": {},
   "source": [
    "lists can be added (concatenated):"
   ]
  },
  {
   "cell_type": "code",
   "execution_count": 48,
   "id": "58725cd3-b110-47d3-95b6-62d1454842b0",
   "metadata": {},
   "outputs": [
    {
     "data": {
      "text/plain": [
       "[0, 1, 1, 2, 3, 5, 8, 13]"
      ]
     },
     "execution_count": 48,
     "metadata": {},
     "output_type": "execute_result"
    }
   ],
   "source": [
    "a"
   ]
  },
  {
   "cell_type": "code",
   "execution_count": 49,
   "id": "b95ccac4-1df2-48cb-a8ca-479e52301543",
   "metadata": {},
   "outputs": [
    {
     "data": {
      "text/plain": [
       "[0, 1, 1, 2, 3, 5, 8, 13, 0, 1, 1, 2, 3, 5, 8, 13]"
      ]
     },
     "execution_count": 49,
     "metadata": {},
     "output_type": "execute_result"
    }
   ],
   "source": [
    "a+a"
   ]
  },
  {
   "cell_type": "markdown",
   "id": "7c1d20e4-6fb8-4a41-9dce-c68397aeb7f6",
   "metadata": {},
   "source": [
    "lists can be sliced"
   ]
  },
  {
   "cell_type": "code",
   "execution_count": 50,
   "id": "043e8253-e039-4620-b861-6ec087f066f8",
   "metadata": {},
   "outputs": [
    {
     "data": {
      "text/plain": [
       "[7.0, 'girls & boys', (2+0j), 3.14159265, 21]"
      ]
     },
     "execution_count": 50,
     "metadata": {},
     "output_type": "execute_result"
    }
   ],
   "source": [
    "b"
   ]
  },
  {
   "cell_type": "code",
   "execution_count": 52,
   "id": "40105361-a305-4085-ba59-e8e6fec3d1a6",
   "metadata": {},
   "outputs": [
    {
     "data": {
      "text/plain": [
       "['girls & boys', (2+0j), 3.14159265]"
      ]
     },
     "execution_count": 52,
     "metadata": {},
     "output_type": "execute_result"
    }
   ],
   "source": [
    "b[1:4] #includes first index but not the 4th one"
   ]
  },
  {
   "cell_type": "code",
   "execution_count": 54,
   "id": "03073387-886a-4aae-9319-2be07a687020",
   "metadata": {},
   "outputs": [
    {
     "data": {
      "text/plain": [
       "['girls & boys', (2+0j), 3.14159265]"
      ]
     },
     "execution_count": 54,
     "metadata": {},
     "output_type": "execute_result"
    }
   ],
   "source": [
    "b[1:-1] #same as above since the -1st index is the same as the 4th (last) index"
   ]
  },
  {
   "cell_type": "code",
   "execution_count": 55,
   "id": "82f42639-3b25-42e9-b4e0-bd987f36835a",
   "metadata": {},
   "outputs": [
    {
     "data": {
      "text/plain": [
       "5"
      ]
     },
     "execution_count": 55,
     "metadata": {},
     "output_type": "execute_result"
    }
   ],
   "source": [
    "#length of a list:\n",
    "len(b)"
   ]
  },
  {
   "cell_type": "markdown",
   "id": "cc6e58e5-0f81-435a-8ed3-4389326ca204",
   "metadata": {},
   "source": [
    "python has functions for creating and augmenting lists. The most useful is the range function,\n",
    "which can be used to create a uniformly spaced sequence of integers"
   ]
  },
  {
   "cell_type": "code",
   "execution_count": 56,
   "id": "d7a5a6ad-bf7b-46ab-959b-191de21fd69d",
   "metadata": {},
   "outputs": [
    {
     "data": {
      "text/plain": [
       "[0, 1, 2, 3, 4, 5, 6, 7, 8, 9]"
      ]
     },
     "execution_count": 56,
     "metadata": {},
     "output_type": "execute_result"
    }
   ],
   "source": [
    "list(range(10))"
   ]
  },
  {
   "cell_type": "code",
   "execution_count": 59,
   "id": "c6e4e27e-485d-4989-a788-17503eb62086",
   "metadata": {},
   "outputs": [
    {
     "data": {
      "text/plain": [
       "[3, 5, 7, 9]"
      ]
     },
     "execution_count": 59,
     "metadata": {},
     "output_type": "execute_result"
    }
   ],
   "source": [
    "list(range(3, 10, 2)) #here I need to have the 'list' in front otherwise just the range doesnt work\n",
    "#3=start\n",
    "#10=stop\n",
    "#2=increments"
   ]
  },
  {
   "cell_type": "code",
   "execution_count": 61,
   "id": "56e756b8-b3a9-40b1-9dd9-d07a90db508b",
   "metadata": {},
   "outputs": [
    {
     "data": {
      "text/plain": [
       "[10, 8, 6, 4]"
      ]
     },
     "execution_count": 61,
     "metadata": {},
     "output_type": "execute_result"
    }
   ],
   "source": [
    "list(range(10, 3, -2))"
   ]
  },
  {
   "cell_type": "markdown",
   "id": "867965b8-e06c-4afc-8aef-b6ec58cf2d2e",
   "metadata": {},
   "source": [
    "can add one or more elements to the beginning or end of a list using the “+” operator"
   ]
  },
  {
   "cell_type": "code",
   "execution_count": 18,
   "id": "0c7f9d2c-8021-4a2b-8029-c92d12e7628d",
   "metadata": {},
   "outputs": [
    {
     "data": {
      "text/plain": [
       "[10, 8, 6, 4, 16, 31, 64, 127]"
      ]
     },
     "execution_count": 18,
     "metadata": {},
     "output_type": "execute_result"
    }
   ],
   "source": [
    "a=list(range(10, 3, -2))\n",
    "a += [16, 31, 64, 127]\n",
    "a"
   ]
  },
  {
   "cell_type": "markdown",
   "id": "0096a462-9171-4eba-b718-05408e849fc7",
   "metadata": {},
   "source": [
    "can insert elements by splicing"
   ]
  },
  {
   "cell_type": "code",
   "execution_count": 19,
   "id": "14b380e0-3c62-4af1-b0ba-abc75082517c",
   "metadata": {},
   "outputs": [
    {
     "data": {
      "text/plain": [
       "[10, 8, 6, 4, 16, 31, 64, 127]"
      ]
     },
     "execution_count": 19,
     "metadata": {},
     "output_type": "execute_result"
    }
   ],
   "source": [
    "a"
   ]
  },
  {
   "cell_type": "code",
   "execution_count": 24,
   "id": "2cf31d51-9987-4305-ada2-c4c0169b2820",
   "metadata": {},
   "outputs": [
    {
     "data": {
      "text/plain": [
       "[10, 8, 6, 4, 16, 101, 102, 31, 64, 127]"
      ]
     },
     "execution_count": 24,
     "metadata": {},
     "output_type": "execute_result"
    }
   ],
   "source": [
    "b = a[:5] + [101, 102] + a[5:]\n",
    "b"
   ]
  },
  {
   "cell_type": "markdown",
   "id": "c24cd6ed-47c4-40d8-87f8-ee71670f2e75",
   "metadata": {},
   "source": [
    "### tuples: lists that are immutable (once defined, the individual elements of a tuple can't be changed). written as a sequence of numbers enclosed with ROUND parentheses, not square brackets"
   ]
  },
  {
   "cell_type": "code",
   "execution_count": 25,
   "id": "ff1d7536-ff04-417f-afec-6eba40175a04",
   "metadata": {},
   "outputs": [
    {
     "data": {
      "text/plain": [
       "8"
      ]
     },
     "execution_count": 25,
     "metadata": {},
     "output_type": "execute_result"
    }
   ],
   "source": [
    "c=(1,2,3,6,8,9,4,2345)\n",
    "c[4]"
   ]
  },
  {
   "cell_type": "code",
   "execution_count": 27,
   "id": "95c66204-2d6b-44bf-b18b-bf420129628f",
   "metadata": {},
   "outputs": [
    {
     "ename": "TypeError",
     "evalue": "'tuple' object does not support item assignment",
     "output_type": "error",
     "traceback": [
      "\u001b[0;31m---------------------------------------------------------------------------\u001b[0m",
      "\u001b[0;31mTypeError\u001b[0m                                 Traceback (most recent call last)",
      "Cell \u001b[0;32mIn[27], line 1\u001b[0m\n\u001b[0;32m----> 1\u001b[0m \u001b[43mc\u001b[49m\u001b[43m[\u001b[49m\u001b[38;5;241;43m4\u001b[39;49m\u001b[43m]\u001b[49m\u001b[38;5;241m=\u001b[39m\u001b[38;5;241m7\u001b[39m \u001b[38;5;66;03m#error because prohibited from changing an element of a tuple\u001b[39;00m\n",
      "\u001b[0;31mTypeError\u001b[0m: 'tuple' object does not support item assignment"
     ]
    }
   ],
   "source": [
    "c[4]=7 #error because prohibited from changing an element of a tuple"
   ]
  },
  {
   "cell_type": "markdown",
   "id": "9f203ccf-ef5e-474a-8c50-e4d96f8f85cb",
   "metadata": {},
   "source": [
    "### multidimensional lists: lists of lists (see below)"
   ]
  },
  {
   "cell_type": "code",
   "execution_count": 30,
   "id": "b049af8b-6fca-43b8-8604-966561ac46b6",
   "metadata": {},
   "outputs": [
    {
     "data": {
      "text/plain": [
       "[3, 9]"
      ]
     },
     "execution_count": 30,
     "metadata": {},
     "output_type": "execute_result"
    }
   ],
   "source": [
    "a = [[3, 9], [8, 5], [11, 1]]\n",
    "#a three element list where each element is a two element list\n",
    "#to access each element:\n",
    "a[0]"
   ]
  },
  {
   "cell_type": "code",
   "execution_count": 31,
   "id": "407ef5ed-8ae1-48ae-ace1-d25993f1349e",
   "metadata": {},
   "outputs": [
    {
     "data": {
      "text/plain": [
       "9"
      ]
     },
     "execution_count": 31,
     "metadata": {},
     "output_type": "execute_result"
    }
   ],
   "source": [
    "a[0][1]\n",
    "#the second element (second brackets) of the first element (first brackets) of the multidimensional list (a)"
   ]
  },
  {
   "cell_type": "markdown",
   "id": "2566dd94-94e7-413d-b515-0da6411548a0",
   "metadata": {},
   "source": [
    "multidimensional tuples = multidimensional lists except they are immutable"
   ]
  },
  {
   "cell_type": "markdown",
   "id": "91e8625c-cde4-4437-99fa-04fb88bfa3d2",
   "metadata": {},
   "source": [
    "### Numpy arrays: workhorse of data structures for scientific and engineering applications. \n",
    "#### formally called ndarray\n",
    "#### similar to a list but where all the elements of the list are of the same type\n",
    "#### elements of a NumPy array, or simply an array, are usually numbers, but can also be boolians, strings, etc \n",
    "#### when elements are numbers, they must all be of the same type (e.g. may all be floating point numbers, or all integers)"
   ]
  },
  {
   "cell_type": "markdown",
   "id": "aa974f79-ce1d-45ea-9a78-bde597c8e1b3",
   "metadata": {},
   "source": [
    "many ways of creating arrays\n",
    "1. the array function - converts a list into an array"
   ]
  },
  {
   "cell_type": "code",
   "execution_count": 35,
   "id": "0a277622-9197-4be0-b61f-08ce42b00391",
   "metadata": {},
   "outputs": [
    {
     "data": {
      "text/plain": [
       "array([         1,          2,          5,         45,        624,\n",
       "             1345,     235457, 2456467786])"
      ]
     },
     "execution_count": 35,
     "metadata": {},
     "output_type": "execute_result"
    }
   ],
   "source": [
    "import numpy as np\n",
    "a = [1,2,5,45,624,1345,235457,2456467786]\n",
    "b = np.array(a)\n",
    "b"
   ]
  },
  {
   "cell_type": "code",
   "execution_count": 36,
   "id": "46f84e15-27be-4476-975a-bdae8d6e00bf",
   "metadata": {},
   "outputs": [
    {
     "data": {
      "text/plain": [
       "array([ 1.,  4., -2.,  7.])"
      ]
     },
     "execution_count": 36,
     "metadata": {},
     "output_type": "execute_result"
    }
   ],
   "source": [
    "c = np.array([1, 4., -2, 7])\n",
    "c"
   ]
  },
  {
   "cell_type": "markdown",
   "id": "ed5c878c-7db4-4445-b5cd-d597a486423c",
   "metadata": {},
   "source": [
    "2. using the NumPy linspace or logspace functions\n",
    "    - the linspace function creates an array of evenly spaced points between a starting point and an ending point\n",
    "    - form of the function: linspace(start, stop, N)\n",
    "    - If the third argument N is omitted, then N=50."
   ]
  },
  {
   "cell_type": "code",
   "execution_count": 37,
   "id": "c498200a-8fbd-434d-8f2d-ebc64104019c",
   "metadata": {},
   "outputs": [
    {
     "data": {
      "text/plain": [
       "array([ 0. ,  2.5,  5. ,  7.5, 10. ])"
      ]
     },
     "execution_count": 37,
     "metadata": {},
     "output_type": "execute_result"
    }
   ],
   "source": [
    "np.linspace(0, 10, 5)"
   ]
  },
  {
   "cell_type": "markdown",
   "id": "2b1859ef-5ea0-4260-b5a1-a3bfdadefee3",
   "metadata": {},
   "source": [
    " - the logspace function produces evenly spaced points on a logarithmically spaced scale\n",
    " - The arguments are the same as those for linspace except that start and stop refer to a power of 10\n",
    "     * the array starts at 10^(start) and ends at 10^(stop)."
   ]
  },
  {
   "cell_type": "code",
   "execution_count": 42,
   "id": "a9405375-d4a3-4755-b87d-8edc1127240e",
   "metadata": {},
   "outputs": [
    {
     "data": {
      "text/plain": [
       "array([  10.        ,   31.6227766 ,  100.        ,  316.22776602,\n",
       "       1000.        ])"
      ]
     },
     "execution_count": 42,
     "metadata": {},
     "output_type": "execute_result"
    }
   ],
   "source": [
    "np.logspace(1,3,5)\n"
   ]
  },
  {
   "cell_type": "markdown",
   "id": "c1816e6b-014f-4571-b84c-25115006eef3",
   "metadata": {},
   "source": [
    "3. using the NumPy arange function (similar to the Python range function for creating lists) \n",
    " - form of the function: arange(start, stop, step)\n",
    " - if the third argument is omitted, step=1\n",
    " - if the first and third arguments are omitted, start=0 and step=1."
   ]
  },
  {
   "cell_type": "code",
   "execution_count": 43,
   "id": "6f13995a-1850-454b-b795-a75a975bbf2a",
   "metadata": {},
   "outputs": [
    {
     "data": {
      "text/plain": [
       "array([0, 2, 4, 6, 8])"
      ]
     },
     "execution_count": 43,
     "metadata": {},
     "output_type": "execute_result"
    }
   ],
   "source": [
    "np.arange(0,10,2)"
   ]
  },
  {
   "cell_type": "markdown",
   "id": "a1b2a0d9-77a9-485a-90c7-30fd0771590a",
   "metadata": {},
   "source": [
    "arange produces an integer array if the arguments are all integers; making\n",
    "any one of the arguments a float causes the array that is created to be a float."
   ]
  },
  {
   "cell_type": "markdown",
   "id": "fac66ee7-2284-4b87-b7f7-11fd52ef0ef4",
   "metadata": {},
   "source": [
    "4. using the zeros and ones functions\n",
    "   - they create arrays where all the elements are either zeros or ones\n",
    "   - takes one mandatory argument (the number of elements in the array)\n",
    "   - takes one optional argument (specifies the data type of the array)\n",
    "      * Left unspecified, the data type is a float"
   ]
  },
  {
   "cell_type": "code",
   "execution_count": 45,
   "id": "a73655eb-2b16-451a-a2b9-d8e775d99be0",
   "metadata": {},
   "outputs": [
    {
     "data": {
      "text/plain": [
       "array([0., 0., 0., 0., 0., 0.])"
      ]
     },
     "execution_count": 45,
     "metadata": {},
     "output_type": "execute_result"
    }
   ],
   "source": [
    "np.zeros(6)"
   ]
  },
  {
   "cell_type": "code",
   "execution_count": 46,
   "id": "ad1117cf-32a7-4aed-a74a-ce716ec66636",
   "metadata": {},
   "outputs": [
    {
     "data": {
      "text/plain": [
       "array([0, 0, 0, 0, 0, 0])"
      ]
     },
     "execution_count": 46,
     "metadata": {},
     "output_type": "execute_result"
    }
   ],
   "source": [
    "np.zeros(6, dtype=int)"
   ]
  },
  {
   "cell_type": "code",
   "execution_count": 47,
   "id": "869cf64d-254c-4c90-b5ae-d3a30669a9b4",
   "metadata": {},
   "outputs": [
    {
     "data": {
      "text/plain": [
       "array([1., 1., 1., 1., 1., 1., 1.])"
      ]
     },
     "execution_count": 47,
     "metadata": {},
     "output_type": "execute_result"
    }
   ],
   "source": [
    "np.ones(7)"
   ]
  },
  {
   "cell_type": "markdown",
   "id": "2146791d-5a94-4516-8480-379e1ddc1f5a",
   "metadata": {},
   "source": [
    "## 8. Plotting"
   ]
  },
  {
   "cell_type": "markdown",
   "id": "65e1c441-cf79-4d48-bb33-219e7d285fc4",
   "metadata": {},
   "source": [
    "not a part of core python, but provided through one of several library modules, the most highly developed and widely used of which is MatPlotLib"
   ]
  },
  {
   "cell_type": "markdown",
   "id": "8757d25d-dd64-4254-b21d-841933f4953a",
   "metadata": {},
   "source": [
    "for any program for which you would like to produce 2-d plots, you should include the lines:\n",
    "1. import numpy as np\n",
    "2. import matplotlib.pyplot as plt"
   ]
  },
  {
   "cell_type": "code",
   "execution_count": 48,
   "id": "1938009f-9211-492b-9608-670b3dee1855",
   "metadata": {},
   "outputs": [
    {
     "ename": "ModuleNotFoundError",
     "evalue": "No module named 'matplotlib'",
     "output_type": "error",
     "traceback": [
      "\u001b[0;31m---------------------------------------------------------------------------\u001b[0m",
      "\u001b[0;31mModuleNotFoundError\u001b[0m                       Traceback (most recent call last)",
      "Cell \u001b[0;32mIn[48], line 1\u001b[0m\n\u001b[0;32m----> 1\u001b[0m \u001b[38;5;28;01mimport\u001b[39;00m \u001b[38;5;21;01mmatplotlib\u001b[39;00m\u001b[38;5;21;01m.\u001b[39;00m\u001b[38;5;21;01mpyplot\u001b[39;00m \u001b[38;5;28;01mas\u001b[39;00m \u001b[38;5;21;01mplt\u001b[39;00m\n\u001b[1;32m      2\u001b[0m plt\u001b[38;5;241m.\u001b[39mplot([\u001b[38;5;241m1\u001b[39m,\u001b[38;5;241m2\u001b[39m,\u001b[38;5;241m3\u001b[39m,\u001b[38;5;241m2\u001b[39m,\u001b[38;5;241m3\u001b[39m,\u001b[38;5;241m4\u001b[39m,\u001b[38;5;241m3\u001b[39m,\u001b[38;5;241m4\u001b[39m,\u001b[38;5;241m5\u001b[39m])\n",
      "\u001b[0;31mModuleNotFoundError\u001b[0m: No module named 'matplotlib'"
     ]
    }
   ],
   "source": [
    "import matplotlib.pyplot as plt\n",
    "plt.plot([1,2,3,2,3,4,3,4,5])"
   ]
  },
  {
   "cell_type": "code",
   "execution_count": 49,
   "id": "532df19b-7891-4329-bc90-27a6b6103116",
   "metadata": {},
   "outputs": [
    {
     "name": "stdout",
     "output_type": "stream",
     "text": [
      "Collecting matplotlib\n",
      "  Downloading matplotlib-3.8.2-cp312-cp312-macosx_10_12_x86_64.whl.metadata (5.8 kB)\n",
      "Collecting contourpy>=1.0.1 (from matplotlib)\n",
      "  Downloading contourpy-1.2.0-cp312-cp312-macosx_10_9_x86_64.whl.metadata (5.8 kB)\n",
      "Collecting cycler>=0.10 (from matplotlib)\n",
      "  Downloading cycler-0.12.1-py3-none-any.whl.metadata (3.8 kB)\n",
      "Collecting fonttools>=4.22.0 (from matplotlib)\n",
      "  Downloading fonttools-4.48.1-cp312-cp312-macosx_10_9_x86_64.whl.metadata (158 kB)\n",
      "\u001b[2K     \u001b[90m━━━━━━━━━━━━━━━━━━━━━━━━━━━━━━━━━━━━━━━\u001b[0m \u001b[32m158.9/158.9 kB\u001b[0m \u001b[31m2.5 MB/s\u001b[0m eta \u001b[36m0:00:00\u001b[0ma \u001b[36m0:00:01\u001b[0m\n",
      "\u001b[?25hCollecting kiwisolver>=1.3.1 (from matplotlib)\n",
      "  Downloading kiwisolver-1.4.5-cp312-cp312-macosx_10_9_x86_64.whl.metadata (6.4 kB)\n",
      "Requirement already satisfied: numpy<2,>=1.21 in /Users/sanjinamalia/miniconda3/envs/python/lib/python3.12/site-packages (from matplotlib) (1.26.3)\n",
      "Requirement already satisfied: packaging>=20.0 in /Users/sanjinamalia/miniconda3/envs/python/lib/python3.12/site-packages (from matplotlib) (23.2)\n",
      "Collecting pillow>=8 (from matplotlib)\n",
      "  Downloading pillow-10.2.0-cp312-cp312-macosx_10_10_x86_64.whl.metadata (9.7 kB)\n",
      "Collecting pyparsing>=2.3.1 (from matplotlib)\n",
      "  Downloading pyparsing-3.1.1-py3-none-any.whl.metadata (5.1 kB)\n",
      "Requirement already satisfied: python-dateutil>=2.7 in /Users/sanjinamalia/miniconda3/envs/python/lib/python3.12/site-packages (from matplotlib) (2.8.2)\n",
      "Requirement already satisfied: six>=1.5 in /Users/sanjinamalia/miniconda3/envs/python/lib/python3.12/site-packages (from python-dateutil>=2.7->matplotlib) (1.16.0)\n",
      "Downloading matplotlib-3.8.2-cp312-cp312-macosx_10_12_x86_64.whl (7.6 MB)\n",
      "\u001b[2K   \u001b[90m━━━━━━━━━━━━━━━━━━━━━━━━━━━━━━━━━━━━━━━━\u001b[0m \u001b[32m7.6/7.6 MB\u001b[0m \u001b[31m8.7 MB/s\u001b[0m eta \u001b[36m0:00:00\u001b[0m00:01\u001b[0m00:01\u001b[0m\n",
      "\u001b[?25hDownloading contourpy-1.2.0-cp312-cp312-macosx_10_9_x86_64.whl (259 kB)\n",
      "\u001b[2K   \u001b[90m━━━━━━━━━━━━━━━━━━━━━━━━━━━━━━━━━━━━━━━━\u001b[0m \u001b[32m259.3/259.3 kB\u001b[0m \u001b[31m10.1 MB/s\u001b[0m eta \u001b[36m0:00:00\u001b[0m\n",
      "\u001b[?25hDownloading cycler-0.12.1-py3-none-any.whl (8.3 kB)\n",
      "Downloading fonttools-4.48.1-cp312-cp312-macosx_10_9_x86_64.whl (2.3 MB)\n",
      "\u001b[2K   \u001b[90m━━━━━━━━━━━━━━━━━━━━━━━━━━━━━━━━━━━━━━━━\u001b[0m \u001b[32m2.3/2.3 MB\u001b[0m \u001b[31m14.9 MB/s\u001b[0m eta \u001b[36m0:00:00\u001b[0ma \u001b[36m0:00:01\u001b[0m\n",
      "\u001b[?25hDownloading kiwisolver-1.4.5-cp312-cp312-macosx_10_9_x86_64.whl (67 kB)\n",
      "\u001b[2K   \u001b[90m━━━━━━━━━━━━━━━━━━━━━━━━━━━━━━━━━━━━━━━━\u001b[0m \u001b[32m67.3/67.3 kB\u001b[0m \u001b[31m2.4 MB/s\u001b[0m eta \u001b[36m0:00:00\u001b[0m\n",
      "\u001b[?25hDownloading pillow-10.2.0-cp312-cp312-macosx_10_10_x86_64.whl (3.5 MB)\n",
      "\u001b[2K   \u001b[90m━━━━━━━━━━━━━━━━━━━━━━━━━━━━━━━━━━━━━━━━\u001b[0m \u001b[32m3.5/3.5 MB\u001b[0m \u001b[31m12.2 MB/s\u001b[0m eta \u001b[36m0:00:00\u001b[0m00:01\u001b[0m00:01\u001b[0m\n",
      "\u001b[?25hDownloading pyparsing-3.1.1-py3-none-any.whl (103 kB)\n",
      "\u001b[2K   \u001b[90m━━━━━━━━━━━━━━━━━━━━━━━━━━━━━━━━━━━━━━━━\u001b[0m \u001b[32m103.1/103.1 kB\u001b[0m \u001b[31m4.6 MB/s\u001b[0m eta \u001b[36m0:00:00\u001b[0m\n",
      "\u001b[?25hInstalling collected packages: pyparsing, pillow, kiwisolver, fonttools, cycler, contourpy, matplotlib\n",
      "Successfully installed contourpy-1.2.0 cycler-0.12.1 fonttools-4.48.1 kiwisolver-1.4.5 matplotlib-3.8.2 pillow-10.2.0 pyparsing-3.1.1\n",
      "Note: you may need to restart the kernel to use updated packages.\n"
     ]
    }
   ],
   "source": [
    "pip install matplotlib"
   ]
  },
  {
   "cell_type": "code",
   "execution_count": 50,
   "id": "bfad2071-e733-4ea2-aed4-0c04d6f51635",
   "metadata": {},
   "outputs": [
    {
     "data": {
      "text/plain": [
       "[<matplotlib.lines.Line2D at 0x10f7447a0>]"
      ]
     },
     "execution_count": 50,
     "metadata": {},
     "output_type": "execute_result"
    },
    {
     "data": {
      "image/png": "[encoded data removed]",
      "text/plain": [
       "<Figure size 640x480 with 1 Axes>"
      ]
     },
     "metadata": {},
     "output_type": "display_data"
    }
   ],
   "source": [
    "import matplotlib.pyplot as plt\n",
    "plt.plot([1,2,3,2,3,4,3,4,5])"
   ]
  },
  {
   "cell_type": "markdown",
   "id": "63c222ee-0415-47c7-8007-85580efac204",
   "metadata": {},
   "source": [
    "The plot function is used to plot - data sets and is written like this\n",
    " - plot(x, y)\n",
    "\n",
    "where x and y are arrays (or lists) that have the same size.\n",
    "If the x array is missing, that is, if there is only a single array, as in our example above, the plot function uses 0, 1, ..., N-1 for the x array, where N is the size of the y array.\n",
    "\n",
    "more typically, one supplies an *x* AND a *y* data set to plot. \n",
    "you may also want to:\n",
    " - plot several data sets on the same graph\n",
    " - use symbols as well as lines\n",
    " - label the axes\n",
    " - create a title and a legend\n",
    " - control the color of symbols and lines\n",
    "\n",
    "All of this is possible but requires calling a number of plotting functions. For this reason, plotting is usually done using a Python script or program."
   ]
  },
  {
   "cell_type": "code",
   "execution_count": 67,
   "id": "6f06c472-f3f4-4cab-a6d6-ffadacc18f2e",
   "metadata": {},
   "outputs": [
    {
     "data": {
      "image/png": "[encoded data removed]",
      "text/plain": [
       "<Figure size 640x480 with 1 Axes>"
      ]
     },
     "metadata": {},
     "output_type": "display_data"
    }
   ],
   "source": [
    "#import numpy and matplotlib\n",
    "import numpy as np\n",
    "import matplotlib.pyplot as plt\n",
    "#create the (x,y) data arrays\n",
    "x = np.linspace(0, 4*np.pi, 100) #the more points, the smoother the graph; format: (start, stop, # of points)\n",
    "y = np.sin(x)\n",
    "#plot straight lines between points\n",
    "plt.plot(x, y)\n",
    "# display plot in a figure window\n",
    "plt.show()"
   ]
  },
  {
   "cell_type": "code",
   "execution_count": 189,
   "id": "25995d70-b9ef-4d2d-a4e6-549013cb2108",
   "metadata": {},
   "outputs": [
    {
     "data": {
      "text/plain": [
       "array([-10.        ,  -9.89949749,  -9.79899497,  -9.69849246,\n",
       "        -9.59798995,  -9.49748744,  -9.39698492,  -9.29648241,\n",
       "        -9.1959799 ,  -9.09547739,  -8.99497487,  -8.89447236,\n",
       "        -8.79396985,  -8.69346734,  -8.59296482,  -8.49246231,\n",
       "        -8.3919598 ,  -8.29145729,  -8.19095477,  -8.09045226,\n",
       "        -7.98994975,  -7.88944724,  -7.78894472,  -7.68844221,\n",
       "        -7.5879397 ,  -7.48743719,  -7.38693467,  -7.28643216,\n",
       "        -7.18592965,  -7.08542714,  -6.98492462,  -6.88442211,\n",
       "        -6.7839196 ,  -6.68341709,  -6.58291457,  -6.48241206,\n",
       "        -6.38190955,  -6.28140704,  -6.18090452,  -6.08040201,\n",
       "        -5.9798995 ,  -5.87939698,  -5.77889447,  -5.67839196,\n",
       "        -5.57788945,  -5.47738693,  -5.37688442,  -5.27638191,\n",
       "        -5.1758794 ,  -5.07537688,  -4.97487437,  -4.87437186,\n",
       "        -4.77386935,  -4.67336683,  -4.57286432,  -4.47236181,\n",
       "        -4.3718593 ,  -4.27135678,  -4.17085427,  -4.07035176,\n",
       "        -3.96984925,  -3.86934673,  -3.76884422,  -3.66834171,\n",
       "        -3.5678392 ,  -3.46733668,  -3.36683417,  -3.26633166,\n",
       "        -3.16582915,  -3.06532663,  -2.96482412,  -2.86432161,\n",
       "        -2.7638191 ,  -2.66331658,  -2.56281407,  -2.46231156,\n",
       "        -2.36180905,  -2.26130653,  -2.16080402,  -2.06030151,\n",
       "        -1.95979899,  -1.85929648,  -1.75879397,  -1.65829146,\n",
       "        -1.55778894,  -1.45728643,  -1.35678392,  -1.25628141,\n",
       "        -1.15577889,  -1.05527638,  -0.95477387,  -0.85427136,\n",
       "        -0.75376884,  -0.65326633,  -0.55276382,  -0.45226131,\n",
       "        -0.35175879,  -0.25125628,  -0.15075377,  -0.05025126,\n",
       "         0.05025126,   0.15075377,   0.25125628,   0.35175879,\n",
       "         0.45226131,   0.55276382,   0.65326633,   0.75376884,\n",
       "         0.85427136,   0.95477387,   1.05527638,   1.15577889,\n",
       "         1.25628141,   1.35678392,   1.45728643,   1.55778894,\n",
       "         1.65829146,   1.75879397,   1.85929648,   1.95979899,\n",
       "         2.06030151,   2.16080402,   2.26130653,   2.36180905,\n",
       "         2.46231156,   2.56281407,   2.66331658,   2.7638191 ,\n",
       "         2.86432161,   2.96482412,   3.06532663,   3.16582915,\n",
       "         3.26633166,   3.36683417,   3.46733668,   3.5678392 ,\n",
       "         3.66834171,   3.76884422,   3.86934673,   3.96984925,\n",
       "         4.07035176,   4.17085427,   4.27135678,   4.3718593 ,\n",
       "         4.47236181,   4.57286432,   4.67336683,   4.77386935,\n",
       "         4.87437186,   4.97487437,   5.07537688,   5.1758794 ,\n",
       "         5.27638191,   5.37688442,   5.47738693,   5.57788945,\n",
       "         5.67839196,   5.77889447,   5.87939698,   5.9798995 ,\n",
       "         6.08040201,   6.18090452,   6.28140704,   6.38190955,\n",
       "         6.48241206,   6.58291457,   6.68341709,   6.7839196 ,\n",
       "         6.88442211,   6.98492462,   7.08542714,   7.18592965,\n",
       "         7.28643216,   7.38693467,   7.48743719,   7.5879397 ,\n",
       "         7.68844221,   7.78894472,   7.88944724,   7.98994975,\n",
       "         8.09045226,   8.19095477,   8.29145729,   8.3919598 ,\n",
       "         8.49246231,   8.59296482,   8.69346734,   8.79396985,\n",
       "         8.89447236,   8.99497487,   9.09547739,   9.1959799 ,\n",
       "         9.29648241,   9.39698492,   9.49748744,   9.59798995,\n",
       "         9.69849246,   9.79899497,   9.89949749,  10.        ])"
      ]
     },
     "execution_count": 189,
     "metadata": {},
     "output_type": "execute_result"
    }
   ],
   "source": [
    "x"
   ]
  },
  {
   "cell_type": "code",
   "execution_count": 141,
   "id": "f907e3e6-cd28-4b72-b2af-f9bead8d606f",
   "metadata": {},
   "outputs": [
    {
     "data": {
      "image/png": "[encoded data removed]",
      "text/plain": [
       "<Figure size 600x400 with 1 Axes>"
      ]
     },
     "metadata": {},
     "output_type": "display_data"
    }
   ],
   "source": [
    "import numpy as np\n",
    "import matplotlib.pyplot as plt\n",
    "\n",
    "# read data from file (only if we have data saved in a file, which we do not yet)\n",
    "# xdata, ydata = np.loadtxt('wavePulseData.txt', unpack=True)\n",
    "\n",
    "# create x and y arrays for theory\n",
    "x = np.linspace(-10., 10., 200)\n",
    "y = np.sin(x) * np.exp(-((x)/5.0)**2) #np.exp raises e to the xth power (in this case, e^(-(x/5)^2))\n",
    "\n",
    "# create plot\n",
    "plt.figure(1, figsize = (6,4) ) # changes dimensions of box that contains plot\n",
    "plt.plot(x, y, '#F000FF', label='theory') # 'b-' changes the color of the graph; p=discreet, words/hex codes work; '-' of 'b-' has no effect?\n",
    "# plt.plot(xdata, ydata, 'ro', label=\"data\") (doesn't work, since we can't plot the data)\n",
    "plt.xlabel('x') \n",
    "plt.ylabel('transverse displacement')\n",
    "plt.legend(loc='lower left')\n",
    "plt.axhline(color = 'orange', zorder=-8) # controls horizontal axis\n",
    "plt.axvline(color = 'black', zorder=-9) # controls vertical axis\n",
    "\n",
    "# save plot to file\n",
    "plt.savefig('WavyPulse.pdf') #saved to documents! updates\n",
    "\n",
    "# display plot on screen\n",
    "plt.show()"
   ]
  },
  {
   "cell_type": "markdown",
   "id": "408f5f44-4135-4de8-9783-5271a2b72271",
   "metadata": {},
   "source": [
    "## 9. Data files"
   ]
  },
  {
   "cell_type": "markdown",
   "id": "bf6fa29c-2c7e-408c-9ab6-3143fbfafaac",
   "metadata": {},
   "source": [
    "CSV File: \n",
    " - a comma-separated values (CSV) file is a delimited text file\n",
    " - uses a comma to separate values\n",
    " - each line of the file is a data record\n",
    " - each record consists of one or more fields, separated by commas\n",
    " - the use of the comma as a field separator is the source of the name for this file format\n",
    " - a CSV file typically stores tabular data (numbers and text) in plain text, in which case each line will have the same number of fields."
   ]
  },
  {
   "cell_type": "code",
   "execution_count": 231,
   "id": "10cdb267-157d-4d79-b3e6-c114e90b2487",
   "metadata": {},
   "outputs": [
    {
     "name": "stdout",
     "output_type": "stream",
     "text": [
      "/Users/sanjinamalia/Documents\n"
     ]
    }
   ],
   "source": [
    "cd Documents"
   ]
  },
  {
   "cell_type": "code",
   "execution_count": 232,
   "id": "d7599d2e-ee7f-45b2-969e-3820aed75af0",
   "metadata": {},
   "outputs": [
    {
     "name": "stdout",
     "output_type": "stream",
     "text": [
      "data/access-code.csv\n",
      "[901242. 207074. 408129. 934600. 507916.] [1. 3. 5. 7. 9.]\n",
      "Mean= 5.0 Standard Deviation= 2.8284271247461903\n"
     ]
    },
    {
     "data": {
      "image/png": "[encoded data removed]",
      "text/plain": [
       "<Figure size 640x480 with 1 Axes>"
      ]
     },
     "metadata": {},
     "output_type": "display_data"
    }
   ],
   "source": [
    "#importing a CSV file and plotting its data\n",
    "# example: traditional import method\n",
    "import matplotlib.pyplot as plt\n",
    "import numpy as np # only need this once per program\n",
    "file_name = 'access-code.csv' # replace with the name of your csv data file\n",
    "file_folder = 'data/' # empty string if data is in the same folder as notebook; if specifying a different folder use '/'\n",
    "#file_folder = '/Users/nfortune/data' # use this if data file is in a folder called 'data'\n",
    "# inside the folder 'nfortune' within the 'Users' directory\n",
    "# such as when using the Jupyter webserver jove.smith.edu\n",
    "# this is called 'absolute addressing'\n",
    "\n",
    "#file_folder = 'data_subfolder/' # you can use this if data file is in a _subfolder_ called 'data_subfolder'\n",
    "# this is called 'relative addressing'\n",
    "data_file = file_folder + file_name\n",
    "print(data_file)\n",
    "t, g, g_error = np.loadtxt(data_file, delimiter = ';', skiprows = 1, usecols = (0, 1, 2), unpack = True)\n",
    "print(t,g)\n",
    "g_mean = np.mean(g)\n",
    "g_std = np.std(g)\n",
    "print(\"Mean=\", g_mean, \"Standard Deviation=\", g_std)\n",
    "plt.plot(t, g, 'b-', label='data')\n",
    "plt.xlabel('Time (sec)')\n",
    "plt.ylabel('Acceleration due to gravity, m/s$^2$')\n",
    "plt.legend(loc='upper right')\n",
    "plt.show()"
   ]
  },
  {
   "cell_type": "code",
   "execution_count": 196,
   "id": "b74bc7f5-cbf2-4da6-bc39-700d6e6093ac",
   "metadata": {},
   "outputs": [
    {
     "data": {
      "text/plain": [
       "array([901242., 207074., 408129., 934600., 507916.])"
      ]
     },
     "execution_count": 196,
     "metadata": {},
     "output_type": "execute_result"
    }
   ],
   "source": [
    "t"
   ]
  },
  {
   "cell_type": "code",
   "execution_count": 197,
   "id": "93cbb1f7-27b8-4b84-bacf-57d7562da4b6",
   "metadata": {},
   "outputs": [
    {
     "data": {
      "text/plain": [
       "array([1., 3., 5., 7., 9.])"
      ]
     },
     "execution_count": 197,
     "metadata": {},
     "output_type": "execute_result"
    }
   ],
   "source": [
    "g"
   ]
  },
  {
   "cell_type": "code",
   "execution_count": 198,
   "id": "306be80e-bdba-479e-b1f1-11f7f77c48d5",
   "metadata": {},
   "outputs": [
    {
     "data": {
      "text/plain": [
       "array([2., 4., 6., 8., 0.])"
      ]
     },
     "execution_count": 198,
     "metadata": {},
     "output_type": "execute_result"
    }
   ],
   "source": [
    "g_error"
   ]
  },
  {
   "cell_type": "code",
   "execution_count": 240,
   "id": "aed96e48-6c21-4859-82df-acd290628ff2",
   "metadata": {},
   "outputs": [
    {
     "data": {
      "text/plain": [
       "array([[-10., 100., -20.],\n",
       "       [ -9.,  81., -18.],\n",
       "       [ -8.,  64., -16.],\n",
       "       [ -7.,  49., -14.],\n",
       "       [ -6.,  36., -12.],\n",
       "       [ -5.,  25., -10.],\n",
       "       [ -4.,  16.,  -8.],\n",
       "       [ -3.,   9.,  -6.],\n",
       "       [ -2.,   4.,  -4.],\n",
       "       [ -1.,   1.,  -2.],\n",
       "       [  0.,   0.,   0.],\n",
       "       [  1.,   1.,   2.],\n",
       "       [  2.,   4.,   4.],\n",
       "       [  3.,   9.,   6.],\n",
       "       [  4.,  16.,   8.],\n",
       "       [  5.,  25.,  10.],\n",
       "       [  6.,  36.,  12.],\n",
       "       [  7.,  49.,  14.],\n",
       "       [  8.,  64.,  16.],\n",
       "       [  9.,  81.,  18.],\n",
       "       [ 10., 100.,  20.]])"
      ]
     },
     "execution_count": 240,
     "metadata": {},
     "output_type": "execute_result"
    }
   ],
   "source": [
    "np.array([x,s,ds]).T #make a 2D array of data; '.T' transposes rows and columns"
   ]
  },
  {
   "cell_type": "code",
   "execution_count": 239,
   "id": "c8e81c73-59d5-4046-9299-d64c03b3dacc",
   "metadata": {},
   "outputs": [
    {
     "data": {
      "image/png": "[encoded data removed]",
      "text/plain": [
       "<Figure size 640x480 with 1 Axes>"
      ]
     },
     "metadata": {},
     "output_type": "display_data"
    }
   ],
   "source": [
    "x = np.linspace(-10, 10, 21)\n",
    "s = x**2\n",
    "ds = 2*x\n",
    "plt.plot(x, s, 'b-', label='data')\n",
    "plt.plot(x, ds, 'g-', label='rate')\n",
    "\n",
    "plt.xlabel('X')\n",
    "plt.ylabel('S')\n",
    "plt.legend(loc='upper right')\n",
    "plt.show()"
   ]
  },
  {
   "cell_type": "code",
   "execution_count": 219,
   "id": "cc4a29aa-0bff-4488-b7e5-a0aafdcfd8f4",
   "metadata": {},
   "outputs": [
    {
     "data": {
      "text/plain": [
       "(100, 3)"
      ]
     },
     "execution_count": 219,
     "metadata": {},
     "output_type": "execute_result"
    }
   ],
   "source": [
    "#saving data in a CSV file (one of many ways)\n",
    "\n",
    "import matplotlib.pyplot as plt\n",
    "import numpy as np\n",
    "\n",
    "x = np.linspace(0, 100, 100)\n",
    "y = np.exp(x)\n",
    "y_log = np.log(y)\n",
    "y_err = 0.11*y\n",
    "\n",
    "output_filename = 'something.csv'\n",
    "\n",
    "header_row_text = 'x, y, y-error' \n",
    "comment_text = '' #inserts whatever text before the header\n",
    "#comment_text = '#' does it really matter\n",
    "\n",
    "data = np.array([x,y,y_err]).T #make a 2D array of data; '.T' transposes rows and columns\n",
    "np.savetxt(output_filename, data, delimiter = ',', header = header_row_text, comments = comment_text)\n",
    "\n",
    "data.shape #shows how many rows/columns in data (row, column)"
   ]
  },
  {
   "cell_type": "markdown",
   "id": "58a2d415-834d-412d-a061-b53e9698b73c",
   "metadata": {},
   "source": [
    "linear regression"
   ]
  },
  {
   "cell_type": "code",
   "execution_count": 259,
   "id": "17c47f32-a0e5-4b25-894d-d14a7d81c562",
   "metadata": {},
   "outputs": [
    {
     "data": {
      "text/plain": [
       "(2.0, 0.0)"
      ]
     },
     "execution_count": 259,
     "metadata": {},
     "output_type": "execute_result"
    }
   ],
   "source": [
    "import numpy as np\n",
    "x = np.linspace(10, 100, 20)\n",
    "y = np.linspace(20, 200, 20)\n",
    "\n",
    "def LineFit(x,y):\n",
    "\n",
    "    xavg = x.mean()\n",
    "    slope = (y*(x-xavg)).sum() / (x*(x-xavg)).sum() \n",
    "    yint = y.mean()-slope*xavg\n",
    "    return slope, yint\n",
    "\n",
    "LineFit(x,y)"
   ]
  },
  {
   "cell_type": "markdown",
   "id": "56258013-a85d-4919-af9a-ce66c2ca642b",
   "metadata": {},
   "source": [
    "curve fit plots"
   ]
  },
  {
   "cell_type": "code",
   "execution_count": 53,
   "id": "9f74f052-8b6c-47e2-a463-aa8aeb058272",
   "metadata": {},
   "outputs": [
    {
     "data": {
      "text/plain": [
       "[<matplotlib.lines.Line2D at 0x1225ba7e0>]"
      ]
     },
     "execution_count": 53,
     "metadata": {},
     "output_type": "execute_result"
    },
    {
     "data": {
      "image/png": "[encoded data removed]",
      "text/plain": [
       "<Figure size 640x480 with 1 Axes>"
      ]
     },
     "metadata": {},
     "output_type": "display_data"
    }
   ],
   "source": [
    "import numpy as np\n",
    "import matplotlib.pyplot as plt\n",
    "from scipy.optimize import curve_fit\n",
    "\n",
    "xdata = [ -10.0, -9.0, -8.0, -7.0, -6.0, -5.0, -4.0, -3.0, -2.0, -1.0, 0.0, 1.0, 2.0, 3.0, 4.0, 5.0, 6.0, 7.0, 8.0, 9.0, 10.0]\n",
    "ydata = [1.2, 4.2, 6.7, 8.3, 10.6, 11.7, 13.5, 14.5, 15.7, 16.1, 16.6, 16.0, 15.4, 14.4, 14.2, 12.7, 10.3, 8.6, 6.1, 3.9, 2.1]\n",
    "\n",
    "xdata = np.asarray(xdata)\n",
    "ydata = np.asarray(ydata)\n",
    "plt.plot (xdata, ydata, 'o')"
   ]
  },
  {
   "cell_type": "code",
   "execution_count": 2,
   "id": "0cab8414-3847-4aec-b890-1400126ddf81",
   "metadata": {},
   "outputs": [
    {
     "name": "stdout",
     "output_type": "stream",
     "text": [
      "Collecting scipy\n",
      "  Downloading scipy-1.12.0-cp312-cp312-macosx_10_9_x86_64.whl.metadata (60 kB)\n",
      "\u001b[2K     \u001b[90m━━━━━━━━━━━━━━━━━━━━━━━━━━━━━━━━━━━━━━━\u001b[0m \u001b[32m60.4/60.4 kB\u001b[0m \u001b[31m827.0 kB/s\u001b[0m eta \u001b[36m0:00:00\u001b[0m \u001b[36m0:00:01\u001b[0m\n",
      "\u001b[?25hRequirement already satisfied: numpy<1.29.0,>=1.22.4 in /Users/sanjinamalia/miniconda3/envs/python/lib/python3.12/site-packages (from scipy) (1.26.3)\n",
      "Downloading scipy-1.12.0-cp312-cp312-macosx_10_9_x86_64.whl (38.9 MB)\n",
      "\u001b[2K   \u001b[90m━━━━━━━━━━━━━━━━━━━━━━━━━━━━━━━━━━━━━━━━\u001b[0m \u001b[32m38.9/38.9 MB\u001b[0m \u001b[31m7.2 MB/s\u001b[0m eta \u001b[36m0:00:00\u001b[0m00:01\u001b[0m00:01\u001b[0mm\n",
      "\u001b[?25hInstalling collected packages: scipy\n",
      "Successfully installed scipy-1.12.0\n",
      "Note: you may need to restart the kernel to use updated packages.\n"
     ]
    }
   ],
   "source": [
    "pip install scipy"
   ]
  },
  {
   "cell_type": "code",
   "execution_count": 54,
   "id": "607fc8a3-dc01-4654-8467-738906dcc1f4",
   "metadata": {},
   "outputs": [
    {
     "data": {
      "text/plain": [
       "[<matplotlib.lines.Line2D at 0x1226417f0>]"
      ]
     },
     "execution_count": 54,
     "metadata": {},
     "output_type": "execute_result"
    },
    {
     "data": {
      "image/png": "[encoded data removed]",
      "text/plain": [
       "<Figure size 640x480 with 1 Axes>"
      ]
     },
     "metadata": {},
     "output_type": "display_data"
    }
   ],
   "source": [
    "import numpy as np\n",
    "import matplotlib.pyplot as plt\n",
    "from scipy.optimize import curve_fit\n",
    "\n",
    "xdata = [ -10.0, -9.0, -8.0, -7.0, -6.0, -5.0, -4.0, -3.0, -2.0, -1.0, 0.0, 1.0, 2.0, 3.0, 4.0, 5.0, 6.0, 7.0, 8.0, 9.0, 10.0]\n",
    "ydata = [1.2, 4.2, 6.7, 8.3, 10.6, 11.7, 13.5, 14.5, 15.7, 16.1, 16.6, 16.0, 15.4, 14.4, 14.2, 12.7, 10.3, 8.6, 6.1, 3.9, 2.1]\n",
    "\n",
    "xdata = np.asarray(xdata)\n",
    "ydata = np.asarray(ydata)\n",
    "plt.plot (xdata, ydata, 'o')"
   ]
  },
  {
   "cell_type": "code",
   "execution_count": 56,
   "id": "03c6255d-fee7-4631-9c79-58a6dd974573",
   "metadata": {},
   "outputs": [],
   "source": [
    "def func(x, a, b):\n",
    "    return a * np.exp(-b * (x*x))\n",
    "\n",
    "#popt, pcov = curve_fit(func, xdata, ydata)\n",
    "#popt"
   ]
  },
  {
   "cell_type": "code",
   "execution_count": 57,
   "id": "1fec4736-f77f-4538-99e1-de28db937726",
   "metadata": {},
   "outputs": [
    {
     "data": {
      "text/plain": [
       "[<matplotlib.lines.Line2D at 0x1226943e0>]"
      ]
     },
     "execution_count": 57,
     "metadata": {},
     "output_type": "execute_result"
    },
    {
     "data": {
      "image/png": "[encoded data removed]",
      "text/plain": [
       "<Figure size 640x480 with 1 Axes>"
      ]
     },
     "metadata": {},
     "output_type": "display_data"
    }
   ],
   "source": [
    "plt.plot(xdata, func(xdata, 16.934286340519687, 0.015739600927241554), 'g--', label='fit: a=%5.3f, b=%5.3f' % tuple(popt))"
   ]
  },
  {
   "cell_type": "markdown",
   "id": "2026b979-5fab-4963-b6a8-2670132864b7",
   "metadata": {},
   "source": [
    "plt.plot(xdata, func(xdata, 16.934286340519687, 0.015739600927241554), 'g--', label='fit: a=%5.3f, b=%5.3f' % para)"
   ]
  },
  {
   "cell_type": "code",
   "execution_count": 58,
   "id": "5ed45968-5f5b-46ff-87c0-7d1705435c4d",
   "metadata": {},
   "outputs": [
    {
     "data": {
      "image/png": "[encoded data removed]",
      "text/plain": [
       "<Figure size 640x480 with 1 Axes>"
      ]
     },
     "metadata": {},
     "output_type": "display_data"
    }
   ],
   "source": [
    "plt.plot (xdata, ydata, 'o')\n",
    "plt.plot(xdata, func(xdata, 16.934286340519687, 0.015739600927241554), 'g--', label='fit: A=%5.2f, B=%5.2f' % tuple(popt))\n",
    "plt.xlabel('x')\n",
    "plt.ylabel('y')\n",
    "plt.legend()\n",
    "plt.show()"
   ]
  },
  {
   "cell_type": "code",
   "execution_count": 28,
   "id": "4f79bb84-1543-4ca1-938a-e0972f0a8fa0",
   "metadata": {},
   "outputs": [],
   "source": [
    "a,b = params"
   ]
  },
  {
   "cell_type": "code",
   "execution_count": 30,
   "id": "ca75463b-4cb2-4f3b-a5d1-d5f931bb6b47",
   "metadata": {},
   "outputs": [
    {
     "data": {
      "text/plain": [
       "'fit: a=%5.3f, b=%5.3f'"
      ]
     },
     "execution_count": 30,
     "metadata": {},
     "output_type": "execute_result"
    }
   ],
   "source": [
    "'fit: a=%5.3f, b=%5.3f'.format(params)"
   ]
  },
  {
   "cell_type": "code",
   "execution_count": 31,
   "id": "7858988a-3c5f-4d34-9e2b-f744c9cedd3f",
   "metadata": {},
   "outputs": [
    {
     "data": {
      "text/plain": [
       "array([-1.47719100e-01,  1.11688312e-02,  1.60258908e+01])"
      ]
     },
     "execution_count": 31,
     "metadata": {},
     "output_type": "execute_result"
    }
   ],
   "source": [
    "def func(x, a, b, c):\n",
    "    return a*x**2 + b*x + c\n",
    "\n",
    "popt, pcov = curve_fit(func, xdata, ydata)\n",
    "popt"
   ]
  },
  {
   "cell_type": "code",
   "execution_count": 38,
   "id": "6305fa62-a4e1-4074-b388-d59291507725",
   "metadata": {},
   "outputs": [
    {
     "data": {
      "text/plain": [
       "array([[ 6.93516705e-06, -1.23563124e-13, -2.54289459e-04],\n",
       "       [-1.23563124e-13,  2.02044561e-04,  4.53064781e-12],\n",
       "       [-2.54289459e-04,  4.53064781e-12,  1.67322464e-02]])"
      ]
     },
     "execution_count": 38,
     "metadata": {},
     "output_type": "execute_result"
    }
   ],
   "source": [
    "pcov"
   ]
  },
  {
   "cell_type": "code",
   "execution_count": 37,
   "id": "fa68ba5b-9958-4a94-81ba-ec920b3f8eeb",
   "metadata": {},
   "outputs": [
    {
     "data": {
      "image/png": "[encoded data removed]",
      "text/plain": [
       "<Figure size 640x480 with 1 Axes>"
      ]
     },
     "metadata": {},
     "output_type": "display_data"
    }
   ],
   "source": [
    "plt.plot (xdata, ydata, 'o')\n",
    "plt.plot(xdata, func(xdata, *popt), 'g--', label='fit: A=%5.2f, B=%5.2f, C=%5.2f' % tuple(popt))\n",
    "plt.xlabel('x')\n",
    "plt.ylabel('y')\n",
    "plt.legend()\n",
    "plt.show()"
   ]
  },
  {
   "cell_type": "code",
   "execution_count": 23,
   "id": "7250a148-bdd7-4394-b17d-75190bfd28c2",
   "metadata": {},
   "outputs": [
    {
     "data": {
      "text/plain": [
       "(2.0, 0.0)"
      ]
     },
     "execution_count": 23,
     "metadata": {},
     "output_type": "execute_result"
    }
   ],
   "source": [
    "import numpy as np\n",
    "\n",
    "x = np.linspace(0, 100, 21)\n",
    "y = np.linspace(0, 200, 21)\n",
    "\n",
    "def Linefit(x,y):\n",
    "    xavg=x.mean()\n",
    "    slope = (y*(x-xavg)).sum()/(x*(x-xavg)).sum()\n",
    "    yint=y.mean()-slope*xavg\n",
    "    return (slope, yint)\n",
    "\n",
    "Linefit(x,y)"
   ]
  },
  {
   "cell_type": "code",
   "execution_count": 28,
   "id": "89620fc9-dfe7-44fd-b6d8-81a23392e069",
   "metadata": {},
   "outputs": [
    {
     "name": "stdout",
     "output_type": "stream",
     "text": [
      "HW 2_t_vs_v.xlsx - Sheet1.csv\n",
      "[ 2.23  4.78  7.21  9.37 11.64 14.23 16.55 18.7  21.05 23.21] [139. 123. 115.  96.  62.  54.  10.  -3. -13. -55.]\n",
      "Mean= 52.8 Standard Deviation= 62.51047912150409\n"
     ]
    },
    {
     "data": {
      "image/png": "[encoded data removed]",
      "text/plain": [
       "<Figure size 640x480 with 1 Axes>"
      ]
     },
     "metadata": {},
     "output_type": "display_data"
    }
   ],
   "source": [
    "import matplotlib.pyplot as plt\n",
    "import numpy as np\n",
    "file_name = 'HW 2_t_vs_v.xlsx - Sheet1.csv' # replace with the name of your csv data file\n",
    "file_folder = '' # empty string if data is in the same folder as notebook; if specifying a different folder use '/'\n",
    "\n",
    "data_file = file_folder + file_name\n",
    "print(data_file)\n",
    "t, v, v_error = np.loadtxt(data_file, delimiter = ',', skiprows = 1, usecols = (0, 1, 2), unpack = True)\n",
    "print(t,v)\n",
    "v_mean = np.mean(v)\n",
    "v_std = np.std(v)\n",
    "print(\"Mean=\", v_mean, \"Standard Deviation=\", v_std)\n",
    "plt.plot(t, v, 'o', label='data')\n",
    "plt.xlabel('Time (sec)')\n",
    "plt.ylabel('velocity (m/s)')\n",
    "plt.legend(loc='upper right')\n",
    "plt.show()"
   ]
  },
  {
   "cell_type": "code",
   "execution_count": 70,
   "id": "031b2e96-4a0c-4668-ac39-d368be0902f3",
   "metadata": {},
   "outputs": [
    {
     "name": "stdout",
     "output_type": "stream",
     "text": [
      "(171.89273556960842, -9.23414248039144)\n"
     ]
    }
   ],
   "source": [
    "import numpy as np\n",
    "import matplotlib.pyplot as plt\n",
    "\n",
    "def Linefit(t,v):\n",
    "    tavg=t.mean()\n",
    "    b = (v*(t-tavg)).sum()/(t*(t-tavg)).sum()\n",
    "    a = v.mean()-b*tavg\n",
    "    return (a, b)\n",
    "    \n",
    "print(Linefit(t,v))"
   ]
  },
  {
   "cell_type": "code",
   "execution_count": 75,
   "id": "626fd83f-cf69-42b1-80c6-e16bd5d32f9d",
   "metadata": {},
   "outputs": [],
   "source": [
    "a,b = Linefit(t,v) #give a and b values"
   ]
  },
  {
   "cell_type": "code",
   "execution_count": 74,
   "id": "8d7999b1-5358-4bdd-b374-7467841a0373",
   "metadata": {},
   "outputs": [
    {
     "data": {
      "text/plain": [
       "(171.89273556960842, -9.23414248039144)"
      ]
     },
     "execution_count": 74,
     "metadata": {},
     "output_type": "execute_result"
    }
   ],
   "source": [
    "a,b #give a and b values"
   ]
  },
  {
   "cell_type": "code",
   "execution_count": 73,
   "id": "8b0d26c2-8cba-4e26-8cf1-f5fc09461db9",
   "metadata": {},
   "outputs": [
    {
     "data": {
      "image/png": "[encoded data removed]",
      "text/plain": [
       "<Figure size 640x480 with 1 Axes>"
      ]
     },
     "metadata": {},
     "output_type": "display_data"
    }
   ],
   "source": [
    "def func(t, a, b):\n",
    "    return a + b*t\n",
    "\n",
    "plt.plot(t,v,'o')\n",
    "plt.plot(t, func(t, a, b), 'g-', label='fit: a=%5.2f, b=%5.2f' % (a, b))\n",
    "plt.xlabel('time')\n",
    "plt.ylabel('velocity')\n",
    "plt.legend()\n",
    "plt.show()"
   ]
  },
  {
   "cell_type": "code",
   "execution_count": null,
   "id": "4bb8a21d-daa9-4f3f-8749-722012192b31",
   "metadata": {},
   "outputs": [],
   "source": []
  }
 ],
 "metadata": {
  "kernelspec": {
   "display_name": "Python 3 (ipykernel)",
   "language": "python",
   "name": "python3"
  },
  "language_info": {
   "codemirror_mode": {
    "name": "ipython",
    "version": 3
   },
   "file_extension": ".py",
   "mimetype": "text/x-python",
   "name": "python",
   "nbconvert_exporter": "python",
   "pygments_lexer": "ipython3",
   "version": "3.12.1"
  }
 },
 "nbformat": 4,
 "nbformat_minor": 5
}
